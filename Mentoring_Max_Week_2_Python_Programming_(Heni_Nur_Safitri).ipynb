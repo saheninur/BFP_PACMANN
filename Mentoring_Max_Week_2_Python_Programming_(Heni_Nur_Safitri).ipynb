{
  "nbformat": 4,
  "nbformat_minor": 0,
  "metadata": {
    "colab": {
      "provenance": [],
      "collapsed_sections": [
        "QjkBfBPYQuBp",
        "HBpPiNIxd7os",
        "oMGlSKoCfuy-",
        "Bwed_S8cjsIO"
      ],
      "include_colab_link": true
    },
    "kernelspec": {
      "name": "python3",
      "display_name": "Python 3"
    },
    "language_info": {
      "name": "python"
    }
  },
  "cells": [
    {
      "cell_type": "markdown",
      "metadata": {
        "id": "view-in-github",
        "colab_type": "text"
      },
      "source": [
        "<a href=\"https://colab.research.google.com/github/saheninur/pacmann_bfp/blob/master/Mentoring_Max_Week_2_Python_Programming_(Heni_Nur_Safitri).ipynb\" target=\"_parent\"><img src=\"https://colab.research.google.com/assets/colab-badge.svg\" alt=\"Open In Colab\"/></a>"
      ]
    },
    {
      "cell_type": "markdown",
      "source": [
        "# Week 2 - Python Programming\n",
        "---\n",
        "\n",
        "Mentoring Session - Job Preparation Program - Pacmann AI"
      ],
      "metadata": {
        "id": "oiHKP1fFcQg8"
      }
    },
    {
      "cell_type": "markdown",
      "source": [
        "# Task 1. Calculate Average Sessions"
      ],
      "metadata": {
        "id": "QjkBfBPYQuBp"
      }
    },
    {
      "cell_type": "markdown",
      "source": [
        "**Task Descriptions**\n",
        "\n",
        "- PacBook is a Social Media platform and they want to know what is their user Average Sessions and Session Duration for each data\n",
        "- Given a three input for `load_time` (in minutes) and `exit_time` (in minutes)\n",
        "\n",
        "- To calculate Session Duration, you can use this formula\n",
        "\n",
        "$$\n",
        "\\text{Session}_\\text{duration} = \\text{exit}_\\text{time} - \\text{load}_\\text{time}\n",
        "$$\n",
        "\n",
        "- To calculate Average Sessions, you can use this formula\n",
        "\n",
        "$$\n",
        "\\text{Average}_\\text{sessions} = \\frac{\\sum_{n=1}^{3}{\\text{Session_duration}_{n}}}{\\text{N_SESSIONS}}\n",
        "$$\n",
        "\n",
        "- But there are some constraints in this task\n",
        "  - If the input for `load_time` and `exit_time` is less than zero or negative values, it will print the result **`\"Not a Valid Input\"`**"
      ],
      "metadata": {
        "id": "swuueRxlUZLd"
      }
    },
    {
      "cell_type": "markdown",
      "source": [
        "**Input - 1**\n",
        "\n",
        "```py\n",
        "load_time_1 = 5\n",
        "exit_time_1 = 10\n",
        "\n",
        "load_time_2 = 2\n",
        "exit_time_2 = 15.5\n",
        "\n",
        "load_time_3 = 1\n",
        "exit_time_3 = 22.3\n",
        "```"
      ],
      "metadata": {
        "id": "Ik-_m7EQ3fXf"
      }
    },
    {
      "cell_type": "markdown",
      "source": [
        "**Output - 1**\n",
        "\n",
        "```py\n",
        "Session 1 Duration (in minutes): 5\n",
        "Session 2 Duration (in minutes): 13.5\n",
        "Session 3 Duration (in minutes): 21.3\n",
        "Average Session Duration (in minutes): 13.27\n",
        "```"
      ],
      "metadata": {
        "id": "mHkWLiAE3iMw"
      }
    },
    {
      "cell_type": "markdown",
      "source": [
        "**Input - 2**\n",
        "\n",
        "```py\n",
        "load_time_1 = 0\n",
        "exit_time_1 = 0\n",
        "\n",
        "load_time_2 = 0\n",
        "exit_time_2 = 0\n",
        "\n",
        "load_time_3 = 0\n",
        "exit_time_3 = 0\n",
        "```"
      ],
      "metadata": {
        "id": "5gIubmCR2vfI"
      }
    },
    {
      "cell_type": "markdown",
      "source": [
        "**Output - 2**\n",
        "\n",
        "```py\n",
        "Session 1 Duration (in minutes): 0\n",
        "Session 2 Duration (in minutes): 0\n",
        "Session 3 Duration (in minutes): 0\n",
        "Average Session Duration (in minutes): 0\n",
        "```"
      ],
      "metadata": {
        "id": "ZHXTFNaU232E"
      }
    },
    {
      "cell_type": "markdown",
      "source": [
        "**Input - 3**"
      ],
      "metadata": {
        "id": "O62tQZyJ3pSt"
      }
    },
    {
      "cell_type": "markdown",
      "source": [
        "```py\n",
        "load_time_1 = 3\n",
        "exit_time_1 = 7\n",
        "\n",
        "load_time_2 = -2\n",
        "exit_time_2 = 5\n",
        "\n",
        "load_time_3 = 3\n",
        "exit_time_3 = 156\n",
        "```"
      ],
      "metadata": {
        "id": "ljEAZIWj5sE8"
      }
    },
    {
      "cell_type": "markdown",
      "source": [
        "**Output - 3**\n",
        "\n",
        "```py\n",
        "Not a Valid Input\n",
        "```"
      ],
      "metadata": {
        "id": "6ivQBiJZ6DBC"
      }
    },
    {
      "cell_type": "code",
      "source": [
        "# Write your code here\n",
        "\n",
        "#input data\n",
        "load_time_1 = 5\n",
        "exit_time_1 = 10\n",
        "\n",
        "load_time_2 = 2\n",
        "exit_time_2 = 15.5\n",
        "\n",
        "load_time_3 = 1\n",
        "exit_time_3 = 22.3\n",
        "\n",
        "#output\n",
        "if (load_time_1 < 0) or (exit_time_1 < 0) or (load_time_2 < 0) or (exit_time_2 < 0) or (load_time_3 < 0) or (exit_time_3 < 0) :\n",
        "    print(\"Not a Valid Input\")\n",
        "else:\n",
        "    session_duration_1 = exit_time_1 - load_time_1\n",
        "    print(f\"Session 1 Duration (in minutes):\", session_duration_1)\n",
        "\n",
        "    session_duration_2 = exit_time_2 - load_time_2\n",
        "    print(f\"Session 1 Duration (in minutes):\", session_duration_2)\n",
        "\n",
        "    session_duration_3 = exit_time_3 - load_time_3\n",
        "    print(f\"Session 1 Duration (in minutes):\", session_duration_3)\n",
        "\n",
        "    average_session = round((session_duration_1 + session_duration_2 + session_duration_3)/3, 2) #round 2 angka di belakang koma\n",
        "    print(f\"Average Session Duration (in minutes):\", average_session)"
      ],
      "metadata": {
        "colab": {
          "base_uri": "https://localhost:8080/"
        },
        "id": "xBjFB0GDQr-Z",
        "outputId": "cfc24099-5f24-4bec-ad2d-dc060b77deb5"
      },
      "execution_count": null,
      "outputs": [
        {
          "output_type": "stream",
          "name": "stdout",
          "text": [
            "Session 1 Duration (in minutes): 5\n",
            "Session 1 Duration (in minutes): 13.5\n",
            "Session 1 Duration (in minutes): 21.3\n",
            "Average Session Duration (in minutes): 13.27\n"
          ]
        }
      ]
    },
    {
      "cell_type": "markdown",
      "source": [
        "# Task 2. Temperature Converter Calculator\n",
        "\n",
        "Category: Medium\n",
        "\n",
        "---"
      ],
      "metadata": {
        "id": "HBpPiNIxd7os"
      }
    },
    {
      "cell_type": "markdown",
      "source": [
        "**Task Descriptions**\n",
        "- There are several unit of temperatures use by people around the world.\n",
        "  - For general people: Celcius or Fahrenheit\n",
        "  - For academic purposes: Kelvin\n",
        "- Your task is to create a temperature converter calculator.\n",
        "  - Celcius to Kelvin, vice versa\n",
        "  - Fahrenheit to Kelvin, vice versa\n",
        "  - Celcius to Fahrenheit, vice versa\n",
        "- **Addition**: Find how to convert the temperature by yourself."
      ],
      "metadata": {
        "id": "2t4h6o_Kd7ou"
      }
    },
    {
      "cell_type": "markdown",
      "source": [
        "**Input**\n",
        "\n",
        "```python\n",
        "temp = 20\n",
        "from_unit = 'Celcius'\n",
        "to_unit = 'Fahrenheit'\n",
        "```"
      ],
      "metadata": {
        "id": "SXFeDQkLd7ow"
      }
    },
    {
      "cell_type": "markdown",
      "source": [
        "**Output**\n",
        "```\n",
        "20 Celcius is equal to 68 Fahrenheit\n",
        "```"
      ],
      "metadata": {
        "id": "sHSt4LBEd7ox"
      }
    },
    {
      "cell_type": "markdown",
      "source": [
        "**Questions 1**\n",
        "\n",
        "---\n",
        "Draw your code flowchart"
      ],
      "metadata": {
        "id": "VrI6kmyUfq6H"
      }
    },
    {
      "cell_type": "markdown",
      "source": [
        "*Insert picture of your flowchart*"
      ],
      "metadata": {
        "id": "jdZDV7Bufq6i"
      }
    },
    {
      "cell_type": "markdown",
      "source": [
        "![picture](https://drive.google.com/uc?id=1ANOWGUcfN9IH85ICSZOthTnob1wnIKr6)"
      ],
      "metadata": {
        "id": "ttwDPc5_mzdN"
      }
    },
    {
      "cell_type": "markdown",
      "source": [
        "**Questions 2**\n",
        "\n",
        "---\n",
        "Create your code based on the flowchart"
      ],
      "metadata": {
        "id": "85ajEoeqfq6p"
      }
    },
    {
      "cell_type": "code",
      "execution_count": null,
      "metadata": {
        "id": "jRiezMKUfq6v",
        "colab": {
          "base_uri": "https://localhost:8080/"
        },
        "outputId": "8e0d5a0f-a5a1-4b70-d4e5-cf3bd5382fa4"
      },
      "outputs": [
        {
          "output_type": "stream",
          "name": "stdout",
          "text": [
            "20 Celcius is equal to 68.0 Fahrenheit\n"
          ]
        }
      ],
      "source": [
        "# Write your code here\n",
        "\n",
        "#input data\n",
        "temp = 20\n",
        "from_unit = 'Celcius'\n",
        "to_unit = 'Fahrenheit'\n",
        "\n",
        "\n",
        "\n",
        "#output\n",
        "if from_unit == 'Celcius':\n",
        "    if to_unit == 'Fahrenheit':\n",
        "        celcius_to_fahrenheit = round(((9/5 * temp) + 32),2) #konversi celcius to fahrenheit\n",
        "        print(f\"{temp} {from_unit} is equal to {celcius_to_fahrenheit} {to_unit}\")\n",
        "\n",
        "    elif to_unit == 'Kelvin':\n",
        "        celcius_to_kelvin = round((temp + 273.15),2) #konversi celcius to kelvin\n",
        "        print(f\"{temp} {from_unit} is equal to {celcius_to_kelvin} {to_unit}\")\n",
        "\n",
        "elif from_unit == 'Fahrenheit':\n",
        "    if to_unit == 'Celcius':\n",
        "        fahrenheit_to_celcius = round(((temp -32) * (5/9)),2) #konversi fahrenheit to celcius\n",
        "        print(f\"{temp} {from_unit} is equal to {fahrenheit_to_celcius} {to_unit}\")\n",
        "\n",
        "    elif to_unit == 'Kelvin':\n",
        "        fahrenheit_to_kelvin = round(((temp + 459.67) * (5/9)),2) #konversi fahrenheit to kelvin\n",
        "        print(f\"{temp} {from_unit} is equal to {fahrenheit_to_kelvin} {to_unit}\")\n",
        "\n",
        "elif from_unit == 'Kelvin':\n",
        "    if to_unit == 'Celcius':\n",
        "        kelvin_to_celcius = round((temp - 273.15),2)  #konversi kelvin to celcius\n",
        "        print(f\"{temp} {from_unit} is equal to {kelvin_to_celcius} {to_unit}\")\n",
        "\n",
        "    elif to_unit == 'Fahrenheit':\n",
        "        kelvin_to_fahrenheit = round(((temp * 9/5) - 459.67),2) #konversi kelvin to fahrenheit\n",
        "        print(f\"{temp} {from_unit} is equal to {kelvin_to_fahrenheit} {to_unit}\")\n",
        "\n",
        "else:\n",
        "      pass"
      ]
    },
    {
      "cell_type": "markdown",
      "source": [
        "# Task 3. Extract NIK (Nomor Induk Kependudukan) Data\n",
        "\n",
        "Category: Hard\n",
        "\n",
        "---"
      ],
      "metadata": {
        "id": "oMGlSKoCfuy-"
      }
    },
    {
      "cell_type": "markdown",
      "source": [
        "**Task Descriptions**\n",
        "- NIK is not some random numbers. You can extract information from the NIK.\n",
        "  - The first six digits are a province, regency, and district code\n",
        "  - The next six digits are the date of birth; DD-MM-YY, respectively\n",
        "    - For men, the date of birth ranged between 01-31\n",
        "    - For women, the date of birth is added with 40, hence ranged between 41-71.\n",
        "  - The last 4 digits are a serial number of NIK issuance.\n",
        "\n",
        "\n",
        "- Given **two** NIK, your tasks are\n",
        "  1. Extract the date of birth of each NIK\n",
        "  2. Extract their gender.\n",
        "  3. Extract whether they have similar gender.\n",
        "  4. Extract whether they have similar month of birth."
      ],
      "metadata": {
        "id": "zA6xNheyfuzA"
      }
    },
    {
      "cell_type": "markdown",
      "source": [
        "**Input**\n",
        "\n",
        "```python\n",
        "nik_1 = 1571011709860003\n",
        "nik_2 = 2404075109910009\n",
        "```"
      ],
      "metadata": {
        "id": "mAxaxYujfuzD"
      }
    },
    {
      "cell_type": "markdown",
      "source": [
        "**Output**\n",
        "```\n",
        "Date of Birth\n",
        "- NIK 1 : 17-09-86\n",
        "- NIK 2 : 11-09-91\n",
        "\n",
        "Gender\n",
        "- NIK 1 : Male\n",
        "- NIK 2 : Female\n",
        "\n",
        "Do they have similar gender?\n",
        "No\n",
        "\n",
        "Do they have similar month of birth?\n",
        "Yes, it is on September\n",
        "```"
      ],
      "metadata": {
        "id": "S89bi74tfuzE"
      }
    },
    {
      "cell_type": "markdown",
      "source": [
        "**Questions 1**\n",
        "\n",
        "---\n",
        "Draw your code flowchart"
      ],
      "metadata": {
        "id": "VXVzZLeAfuzG"
      }
    },
    {
      "cell_type": "markdown",
      "source": [
        "![picture](https://drive.google.com/uc?id=1Lf7IbnjjWyAb5UMn7vsfh4lZHah3JI-C)"
      ],
      "metadata": {
        "id": "PlnLVk45fuzL"
      }
    },
    {
      "cell_type": "markdown",
      "source": [
        "**Questions 2**\n",
        "\n",
        "---\n",
        "Create your code based on the flowchart"
      ],
      "metadata": {
        "id": "Qu7qITjNfuzN"
      }
    },
    {
      "cell_type": "code",
      "execution_count": 70,
      "metadata": {
        "id": "Eb60OMfVfuzO",
        "colab": {
          "base_uri": "https://localhost:8080/"
        },
        "outputId": "05b833ba-a21a-4828-b308-8e8317a696b5"
      },
      "outputs": [
        {
          "output_type": "stream",
          "name": "stdout",
          "text": [
            "Date of Birth\n",
            "- NIK 1 : 17-09-86\n",
            "- NIK 2 : 11-09-91\n",
            "\n",
            "Gender\n",
            "- NIK 1 : Male\n",
            "- NIK 2 : Female\n",
            "\n",
            "Do they have similar gender?\n",
            "No\n",
            "\n",
            "Do they have similar month of birth?\n",
            "Yes it is on September\n"
          ]
        }
      ],
      "source": [
        "# Write your code here\n",
        "#input\n",
        "nik_1 = 1571011709860003\n",
        "nik_2 = 2404075109910009\n",
        "\n",
        "#convert to string untuk dapat data ke [index]\n",
        "nik_1 = str(nik_1)\n",
        "nik_2 = str(nik_2)\n",
        "\n",
        "#initial\n",
        "tanggal_1 =int(nik_1[6:8])\n",
        "bulan_1 = nik_1[8:10]\n",
        "tahun_1 = nik_1[10:12]\n",
        "gender_1 = 'Male'\n",
        "\n",
        "tanggal_2 = int(nik_2[6:8])\n",
        "bulan_2 = nik_2[8:10]\n",
        "tahun_2 = nik_2[10:12]\n",
        "gender_2 = 'Male'\n",
        "\n",
        "\n",
        "#cek tanggal lahir dan gender\n",
        "if (int(nik_1[6:8]) > 40):\n",
        "  tanggal_1 = int(nik_1[6:8]) - 40\n",
        "  gender_1 = 'Female'\n",
        "elif (int(nik_2[6:8]) > 40):\n",
        "  tanggal_2 = int(nik_2[6:8]) - 40\n",
        "  gender_2 = 'Female'\n",
        "else:\n",
        "  pass\n",
        "\n",
        "#cek bulan lahir\n",
        "if bulan_1 == bulan_2:\n",
        "  cek_bulan = 'Yes'\n",
        "  if bulan_1 == '01':\n",
        "    nama_bulan = 'January'\n",
        "  elif bulan_1 == '02':\n",
        "    nama_bulan = 'Febraury'\n",
        "  elif bulan_1 == '03':\n",
        "    nama_bulan = 'March'\n",
        "  elif bulan_1 == '04':\n",
        "    nama_bulan = 'April'\n",
        "  elif bulan_1 == '05':\n",
        "    nama_bulan = 'May'\n",
        "  elif bulan_1 == '06':\n",
        "    nama_bulan = 'June'\n",
        "  elif bulan_1 == '07':\n",
        "    nama_bulan = 'July'\n",
        "  elif bulan_1 == '08':\n",
        "    nama_bulan = 'August'\n",
        "  elif bulan_1 == '09':\n",
        "    nama_bulan = 'September'\n",
        "  elif bulan_1 == '10':\n",
        "    nama_bulan = 'October'\n",
        "  elif bulan_1 == '11':\n",
        "    nama_bulan = 'November'\n",
        "  elif bulan_1 == '12':\n",
        "    nama_bulan = 'December'\n",
        "else:\n",
        "  cek_bulan = 'No'\n",
        "\n",
        "#output\n",
        "print(\n",
        "  f'Date of Birth\\n'\n",
        "  f'- NIK 1 : {tanggal_1}-{bulan_1}-{tahun_1}\\n'\n",
        "  f'- NIK 2 : {tanggal_2}-{bulan_2}-{tahun_2}\\n'\n",
        "\n",
        "  f'\\nGender\\n'\n",
        "  f'- NIK 1 : {gender_1}\\n'\n",
        "  f'- NIK 2 : {gender_2}\\n'\n",
        "\n",
        "  f'\\nDo they have similar gender?\\n'\n",
        "  f'{cek_gender}\\n'\n",
        "\n",
        "  f'\\nDo they have similar month of birth?\\n'\n",
        "  f'{cek_bulan} it is on {nama_bulan}'\n",
        ")"
      ]
    },
    {
      "cell_type": "code",
      "source": [],
      "metadata": {
        "id": "qxcSDsaG4GSj"
      },
      "execution_count": null,
      "outputs": []
    },
    {
      "cell_type": "markdown",
      "source": [
        "# Task 4. Calculate Pajak Penghasilan (Simplified)\n",
        "\n",
        "Category: Hard\n",
        "\n",
        "---"
      ],
      "metadata": {
        "id": "Bwed_S8cjsIO"
      }
    },
    {
      "cell_type": "markdown",
      "source": [
        "**Task Descriptions**\n",
        "- According to Pemotongan Pajak Penghasilan PPh Pasal 21 Tahun 2016, we can calculate our income tax as (we'll write in Bahasa Indonesia for avoiding missinterpretation)\n",
        "\n",
        "- **Penghasilan tidak kena pajak (PTKP)**\n",
        "  - Penghasilan Rp 54.000.000 setahun untuk wajib pajak.\n",
        "  - Tambahan Rp 4.500.000 diberikan jika wajib pajak menikah.\n",
        "  - Tambahan Rp 4.500.000 lagi jika punya 1 orang anak atau Rp 9.000.000 jika punya 2 orang anak. Apabila jumlah tanggungan lebih dari itu, maka tetap dihitung 3 orang tanggungan.\n",
        "\n",
        "- **Tarif Pajak Penghasilan**\n",
        "  - 5% untuk penghasilan kena pajak (PKP) sampai dengan 60 Juta\n",
        "  - 15% untuk PKP di atas 60 juta sampai dengan 250 Juta\n",
        "  - 25% untuk PKP di atas 250 juta sampai dengan 500 juta\n",
        "  - 30% untuk PKP di atas 500 juta sampai dengan 5 miliar\n",
        "  - 35% untuk PKP di atas 5 miliar\n",
        "\n",
        "- Your task is calculate the income tax given\n",
        "  - Monthly income\n",
        "  - Marital status\n",
        "  - The number of dependents (jumlah tanggungan)"
      ],
      "metadata": {
        "id": "zoDj-s5RjsIR"
      }
    },
    {
      "cell_type": "markdown",
      "source": [
        "**Input - 1**\n",
        "\n",
        "```python\n",
        "monthly_income = 4750000\n",
        "marital_status = 'single'\n",
        "n_dependents = 0\n",
        "```"
      ],
      "metadata": {
        "id": "6Z-n6OrpjsIT"
      }
    },
    {
      "cell_type": "markdown",
      "source": [
        "**Output - 1**\n",
        "```\n",
        "Penghasilan neto setahun:\n",
        "57000000\n",
        "\n",
        "PTKP TK/0:\n",
        "-54000000\n",
        "\n",
        "Penghasilan Kena Pajak:\n",
        "3000000\n",
        "\n",
        "PPh 21 terutang setahun:\n",
        "150000\n",
        "```"
      ],
      "metadata": {
        "id": "4J86ID58jsIU"
      }
    },
    {
      "cell_type": "markdown",
      "source": [
        "**Input - 2**\n",
        "\n",
        "```python\n",
        "monthly_income = 15000000\n",
        "marital_status = 'married'\n",
        "n_dependents = 3\n",
        "```"
      ],
      "metadata": {
        "id": "I3vgqcHSpcRx"
      }
    },
    {
      "cell_type": "markdown",
      "source": [
        "**Output - 2**\n",
        "```\n",
        "Penghasilan neto setahun:\n",
        "180000000\n",
        "\n",
        "PTKP K/3:\n",
        "-72000000\n",
        "\n",
        "Penghasilan Kena Pajak:\n",
        "108000000\n",
        "\n",
        "PPh 21 terutang setahun:\n",
        "16200000\n",
        "```"
      ],
      "metadata": {
        "id": "Wuy3LHIGpcSr"
      }
    },
    {
      "cell_type": "markdown",
      "source": [
        "**Questions 1**\n",
        "\n",
        "---\n",
        "Draw your code flowchart"
      ],
      "metadata": {
        "id": "iUT8TvxFjsIW"
      }
    },
    {
      "cell_type": "markdown",
      "source": [
        "![picture](https://drive.google.com/uc?id=1lwD2-bg0y8HDmcPO4tpoX14Uzby512nk)"
      ],
      "metadata": {
        "id": "EGFOt7TZjsIX"
      }
    },
    {
      "cell_type": "markdown",
      "source": [
        "**Questions 2**\n",
        "\n",
        "---\n",
        "Create your code based on the flowchart"
      ],
      "metadata": {
        "id": "DpEkIMiJjsIY"
      }
    },
    {
      "cell_type": "code",
      "execution_count": 64,
      "metadata": {
        "id": "DQkvhd4TjsIa",
        "colab": {
          "base_uri": "https://localhost:8080/"
        },
        "outputId": "a7f1d8d6-5725-4f0d-f5d8-853fc0627c66"
      },
      "outputs": [
        {
          "output_type": "stream",
          "name": "stdout",
          "text": [
            "Penghasilan neto setahun:\n",
            "180000000\n",
            "\n",
            "PTKP K/3:\n",
            "-72000000\n",
            "\n",
            "Penghasilan Kena Pajak:\n",
            "108000000\n",
            "\n",
            "PPh 21 terutang setahun:\n",
            "16200000\n"
          ]
        }
      ],
      "source": [
        "# Write your code here\n",
        "monthly_income = 15000000\n",
        "marital_status = 'married'\n",
        "n_dependents = 3\n",
        "\n",
        "#Penghasilan tidak kena pajak (PTKP)\n",
        "ptkp = 54_000_000\n",
        "annual_income = (monthly_income * 12)\n",
        "\n",
        "#cek ptkp berdasarkan status pernikahann\n",
        "if marital_status == 'married':\n",
        "  marital_status = 'K'\n",
        "  ptkp = ptkp + 4_500_000\n",
        "elif marital_status == 'single':\n",
        "  marital_status = 'TK'\n",
        "else:\n",
        "  pass\n",
        "\n",
        "#cek ptkp berdasarkan jumlah tunggakan\n",
        "if n_dependents > 0:\n",
        "  if n_dependents <= 3:\n",
        "    ptkp = ptkp + (4_500_000 * n_dependents)\n",
        "  else:\n",
        "    ptkp = ptkp + (4_500_000 * 3)\n",
        "else:\n",
        "  pass\n",
        "\n",
        "#penghasilan kena pajak (PKP)\n",
        "pkp = annual_income - ptkp\n",
        "\n",
        "#cek pajak\n",
        "if pkp > 0:\n",
        "  if pkp <= 60_000_000:\n",
        "    pajak = (0.5 * pkp)\n",
        "  elif pkp > 60_000_000 and pkp <= 250_000_000:\n",
        "    pajak = (0.15 * pkp)\n",
        "  elif pkp > 250_000_000 and pkp <= 500_000_000:\n",
        "    pajak = (0.25 * pkp)\n",
        "  elif pkp > 500_000_000 and pkp <= 5_000_000_000:\n",
        "    pajak = (0.30 * pkp)\n",
        "  elif pkp > 5_000_000_000:\n",
        "    pajak = (0.35 * pkp)\n",
        "else:\n",
        "  pkp = 0\n",
        "  pajak = 0\n",
        "\n",
        "\n",
        "#output\n",
        "print (\n",
        "    f\"Penghasilan neto setahun:\\n\"\n",
        "    f\"{annual_income}\\n\"\n",
        "\n",
        "    f\"\\nPTKP {marital_status}/{n_dependents}:\\n\"\n",
        "    f\"-{ptkp}\\n\"\n",
        "\n",
        "    f\"\\nPenghasilan Kena Pajak:\\n\"\n",
        "    f\"{pkp}\\n\"\n",
        "\n",
        "    f\"\\nPPh 21 terutang setahun:\\n\"\n",
        "    f\"{round(pajak)}\"\n",
        ")"
      ]
    }
  ]
}